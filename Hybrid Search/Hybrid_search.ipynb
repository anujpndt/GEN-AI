{
 "cells": [
  {
   "cell_type": "code",
   "execution_count": 27,
   "id": "77e57b5b",
   "metadata": {},
   "outputs": [
    {
     "name": "stdout",
     "output_type": "stream",
     "text": [
      "Requirement already satisfied: Pinecone in c:\\users\\lenovo\\desktop\\langchain projects\\myenv\\lib\\site-packages (6.0.2)\n",
      "Requirement already satisfied: certifi>=2019.11.17 in c:\\users\\lenovo\\desktop\\langchain projects\\myenv\\lib\\site-packages (from Pinecone) (2025.1.31)\n",
      "Requirement already satisfied: pinecone-plugin-interface<0.0.8,>=0.0.7 in c:\\users\\lenovo\\desktop\\langchain projects\\myenv\\lib\\site-packages (from Pinecone) (0.0.7)\n",
      "Requirement already satisfied: python-dateutil>=2.5.3 in c:\\users\\lenovo\\desktop\\langchain projects\\myenv\\lib\\site-packages (from Pinecone) (2.8.2)\n",
      "Requirement already satisfied: typing-extensions>=3.7.4 in c:\\users\\lenovo\\desktop\\langchain projects\\myenv\\lib\\site-packages (from Pinecone) (4.13.0)\n",
      "Requirement already satisfied: urllib3>=1.26.5 in c:\\users\\lenovo\\desktop\\langchain projects\\myenv\\lib\\site-packages (from Pinecone) (2.3.0)\n",
      "Requirement already satisfied: six>=1.5 in c:\\users\\lenovo\\desktop\\langchain projects\\myenv\\lib\\site-packages (from python-dateutil>=2.5.3->Pinecone) (1.17.0)\n"
     ]
    }
   ],
   "source": [
    "! pip install Pinecone"
   ]
  },
  {
   "cell_type": "code",
   "execution_count": 28,
   "metadata": {},
   "outputs": [],
   "source": [
    "api_key =\"pcsk_5jiMcY_M9GJQAnLWv7HQrSgxpkqCeUXtPfrmhBtiNd9vyEeSUngPcdN5oA9mDbWPLrvrhd\""
   ]
  },
  {
   "cell_type": "code",
   "execution_count": 29,
   "id": "6ba36f7e",
   "metadata": {},
   "outputs": [],
   "source": [
    "from langchain_community.retrievers import PineconeHybridSearchRetriever\n"
   ]
  },
  {
   "cell_type": "code",
   "execution_count": 30,
   "id": "82cc0df4",
   "metadata": {},
   "outputs": [],
   "source": [
    "import os \n",
    "from pinecone import Pinecone,ServerlessSpec\n",
    "index_name=\"hybrid-search-langchain-pinecone\"\n",
    "\n",
    "# Intialize the Pinecone client\n",
    "pc=Pinecone(api_key=api_key)\n",
    "\n",
    "# Create the index\n",
    "\n",
    "if index_name not in pc.list_indexes().names():\n",
    "    pc.create_index(name=index_name, dimension=384, metric=\"dotproduct\",\n",
    "                    spec=ServerlessSpec(cloud=\"aws\",region=\"us-east-1\"))\n",
    "     "
   ]
  },
  {
   "cell_type": "code",
   "execution_count": 31,
   "id": "4c8e561c",
   "metadata": {},
   "outputs": [
    {
     "data": {
      "text/plain": [
       "<pinecone.data.index.Index at 0x1e6b523e690>"
      ]
     },
     "execution_count": 31,
     "metadata": {},
     "output_type": "execute_result"
    }
   ],
   "source": [
    "index=pc.Index(index_name)\n",
    "index"
   ]
  },
  {
   "cell_type": "code",
   "execution_count": 32,
   "id": "c9e84539",
   "metadata": {},
   "outputs": [
    {
     "data": {
      "text/plain": [
       "HuggingFaceEmbeddings(model_name='sentence-transformers/all-MiniLM-L6-v2', cache_folder=None, model_kwargs={}, encode_kwargs={}, multi_process=False, show_progress=False)"
      ]
     },
     "execution_count": 32,
     "metadata": {},
     "output_type": "execute_result"
    }
   ],
   "source": [
    "import os\n",
    "from dotenv import load_dotenv\n",
    "load_dotenv()\n",
    "\n",
    "os.environ[\"HF_TOKEN\"]=os.getenv(\"HF_TOKEN\")\n",
    "\n",
    "from langchain_huggingface import HuggingFaceEmbeddings\n",
    "embeddings = HuggingFaceEmbeddings(model_name=\"sentence-transformers/all-MiniLM-L6-v2\")\n",
    "embeddings"
   ]
  },
  {
   "cell_type": "code",
   "execution_count": 33,
   "id": "a2dc4462",
   "metadata": {},
   "outputs": [
    {
     "data": {
      "text/plain": [
       "<pinecone_text.sparse.bm25_encoder.BM25Encoder at 0x1e6e6209700>"
      ]
     },
     "execution_count": 33,
     "metadata": {},
     "output_type": "execute_result"
    }
   ],
   "source": [
    "from pinecone_text.sparse import BM25Encoder\n",
    "sparse_encoder = BM25Encoder().default()\n",
    "sparse_encoder"
   ]
  },
  {
   "cell_type": "code",
   "execution_count": 34,
   "id": "08b8596c",
   "metadata": {},
   "outputs": [
    {
     "name": "stderr",
     "output_type": "stream",
     "text": [
      "  0%|          | 0/3 [00:00<?, ?it/s]"
     ]
    },
    {
     "name": "stderr",
     "output_type": "stream",
     "text": [
      "100%|██████████| 3/3 [00:00<00:00, 330.39it/s]\n"
     ]
    }
   ],
   "source": [
    "sentences=[\n",
    "    \"In 2023, I visited Paris\",\n",
    "    \"In 2022, I visited New York\",\n",
    "    \"In 2021, I visited London\"\n",
    "]\n",
    "\n",
    "##Tfidf values on these sentence \n",
    "sparse_encoder.fit(sentences)\n",
    "\n",
    "##store the values to a json file \n",
    "sparse_encoder.dump(\"bm25_encoder.json\")\n",
    "\n",
    "##load the values from the json file \n",
    "sparse_encoder=BM25Encoder().load(\"bm25_encoder.json\")\n"
   ]
  },
  {
   "cell_type": "code",
   "execution_count": 35,
   "id": "101ff9d3",
   "metadata": {},
   "outputs": [],
   "source": [
    "\n",
    "retriever=PineconeHybridSearchRetriever(index=index,embeddings=embeddings,sparse_encoder=sparse_encoder)"
   ]
  },
  {
   "cell_type": "code",
   "execution_count": 36,
   "id": "0e3af432",
   "metadata": {},
   "outputs": [
    {
     "name": "stderr",
     "output_type": "stream",
     "text": [
      "100%|██████████| 1/1 [00:05<00:00,  5.42s/it]\n"
     ]
    }
   ],
   "source": [
    "retriever.add_texts(texts=sentences)"
   ]
  },
  {
   "cell_type": "code",
   "execution_count": 37,
   "id": "c060ab3a",
   "metadata": {},
   "outputs": [
    {
     "data": {
      "text/plain": [
       "[Document(metadata={'score': 0.272117913}, page_content='In 2021, I visited London'),\n",
       " Document(metadata={'score': 0.227792367}, page_content='In 2022, I visited New York'),\n",
       " Document(metadata={'score': 0.201514095}, page_content='In 2023, I visited Paris')]"
      ]
     },
     "execution_count": 37,
     "metadata": {},
     "output_type": "execute_result"
    }
   ],
   "source": [
    "retriever.invoke(\"what city did i visit recent\")"
   ]
  },
  {
   "cell_type": "code",
   "execution_count": null,
   "id": "e7e64a9d",
   "metadata": {},
   "outputs": [],
   "source": []
  }
 ],
 "metadata": {
  "kernelspec": {
   "display_name": "myenv",
   "language": "python",
   "name": "python3"
  },
  "language_info": {
   "codemirror_mode": {
    "name": "ipython",
    "version": 3
   },
   "file_extension": ".py",
   "mimetype": "text/x-python",
   "name": "python",
   "nbconvert_exporter": "python",
   "pygments_lexer": "ipython3",
   "version": "3.12.7"
  }
 },
 "nbformat": 4,
 "nbformat_minor": 5
}
